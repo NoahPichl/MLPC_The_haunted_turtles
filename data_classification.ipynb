{
 "cells": [
  {
   "cell_type": "code",
   "execution_count": 1,
   "outputs": [],
   "source": [
    "import pandas as pd\n",
    "import seaborn as sns"
   ],
   "metadata": {
    "collapsed": false,
    "pycharm": {
     "name": "#%%\n"
    }
   }
  },
  {
   "cell_type": "code",
   "execution_count": 2,
   "outputs": [],
   "source": [
    "train_df = pd.read_csv(\"./data/task_3_training.csv\")"
   ],
   "metadata": {
    "collapsed": false,
    "pycharm": {
     "name": "#%%\n"
    }
   }
  },
  {
   "cell_type": "code",
   "execution_count": 3,
   "outputs": [
    {
     "data": {
      "text/plain": "   pianist_id  segment_id  snippet_id  essentia_dissonance_mean  \\\n0           1           0           0                  0.192237   \n1           1           0           1                  0.143425   \n2           1           0           2                  0.146967   \n3           1           0           3                  0.158810   \n4           1           0           4                  0.168547   \n\n   essentia_dissonance_stdev  essentia_dynamic_complexity  essentia_loudness  \\\n0                   0.059404                     2.040252         16079768.0   \n1                   0.064204                     3.138845         35489248.0   \n2                   0.056205                     2.019706         42130144.0   \n3                   0.059129                     3.567908         40922732.0   \n4                   0.049648                     2.329854         51921612.0   \n\n   essentia_onset_rate  essentia_pitch_salience_mean  \\\n0                  0.8                      0.677256   \n1                  2.6                      0.514913   \n2                  2.6                      0.560116   \n3                  1.4                      0.596779   \n4                  1.6                      0.556160   \n\n   essentia_pitch_salience_stdev  ...  gems_nostalgia_binary  \\\n0                       0.095846  ...                    1.0   \n1                       0.092372  ...                    1.0   \n2                       0.115359  ...                    1.0   \n3                       0.116061  ...                    1.0   \n4                       0.143420  ...                    1.0   \n\n   gems_peacefulness_binary  gems_power_binary  gems_joyful_activation_binary  \\\n0                       1.0                0.0                            0.0   \n1                       1.0                0.0                            0.0   \n2                       1.0                0.0                            0.0   \n3                       1.0                0.0                            0.0   \n4                       1.0                0.0                            0.0   \n\n   gems_tension_binary  gems_sadness_binary  gemmes_movement_binary  \\\n0                  0.0                  0.0                     0.0   \n1                  0.0                  0.0                     0.0   \n2                  0.0                  0.0                     0.0   \n3                  0.0                  0.0                     0.0   \n4                  0.0                  0.0                     0.0   \n\n   gemmes_force_binary  gemmes_interior_binary  gemmes_wandering_binary  \n0                  0.0                     0.0                      1.0  \n1                  0.0                     0.0                      1.0  \n2                  0.0                     0.0                      1.0  \n3                  0.0                     0.0                      1.0  \n4                  0.0                     0.0                      1.0  \n\n[5 rows x 201 columns]",
      "text/html": "<div>\n<style scoped>\n    .dataframe tbody tr th:only-of-type {\n        vertical-align: middle;\n    }\n\n    .dataframe tbody tr th {\n        vertical-align: top;\n    }\n\n    .dataframe thead th {\n        text-align: right;\n    }\n</style>\n<table border=\"1\" class=\"dataframe\">\n  <thead>\n    <tr style=\"text-align: right;\">\n      <th></th>\n      <th>pianist_id</th>\n      <th>segment_id</th>\n      <th>snippet_id</th>\n      <th>essentia_dissonance_mean</th>\n      <th>essentia_dissonance_stdev</th>\n      <th>essentia_dynamic_complexity</th>\n      <th>essentia_loudness</th>\n      <th>essentia_onset_rate</th>\n      <th>essentia_pitch_salience_mean</th>\n      <th>essentia_pitch_salience_stdev</th>\n      <th>...</th>\n      <th>gems_nostalgia_binary</th>\n      <th>gems_peacefulness_binary</th>\n      <th>gems_power_binary</th>\n      <th>gems_joyful_activation_binary</th>\n      <th>gems_tension_binary</th>\n      <th>gems_sadness_binary</th>\n      <th>gemmes_movement_binary</th>\n      <th>gemmes_force_binary</th>\n      <th>gemmes_interior_binary</th>\n      <th>gemmes_wandering_binary</th>\n    </tr>\n  </thead>\n  <tbody>\n    <tr>\n      <th>0</th>\n      <td>1</td>\n      <td>0</td>\n      <td>0</td>\n      <td>0.192237</td>\n      <td>0.059404</td>\n      <td>2.040252</td>\n      <td>16079768.0</td>\n      <td>0.8</td>\n      <td>0.677256</td>\n      <td>0.095846</td>\n      <td>...</td>\n      <td>1.0</td>\n      <td>1.0</td>\n      <td>0.0</td>\n      <td>0.0</td>\n      <td>0.0</td>\n      <td>0.0</td>\n      <td>0.0</td>\n      <td>0.0</td>\n      <td>0.0</td>\n      <td>1.0</td>\n    </tr>\n    <tr>\n      <th>1</th>\n      <td>1</td>\n      <td>0</td>\n      <td>1</td>\n      <td>0.143425</td>\n      <td>0.064204</td>\n      <td>3.138845</td>\n      <td>35489248.0</td>\n      <td>2.6</td>\n      <td>0.514913</td>\n      <td>0.092372</td>\n      <td>...</td>\n      <td>1.0</td>\n      <td>1.0</td>\n      <td>0.0</td>\n      <td>0.0</td>\n      <td>0.0</td>\n      <td>0.0</td>\n      <td>0.0</td>\n      <td>0.0</td>\n      <td>0.0</td>\n      <td>1.0</td>\n    </tr>\n    <tr>\n      <th>2</th>\n      <td>1</td>\n      <td>0</td>\n      <td>2</td>\n      <td>0.146967</td>\n      <td>0.056205</td>\n      <td>2.019706</td>\n      <td>42130144.0</td>\n      <td>2.6</td>\n      <td>0.560116</td>\n      <td>0.115359</td>\n      <td>...</td>\n      <td>1.0</td>\n      <td>1.0</td>\n      <td>0.0</td>\n      <td>0.0</td>\n      <td>0.0</td>\n      <td>0.0</td>\n      <td>0.0</td>\n      <td>0.0</td>\n      <td>0.0</td>\n      <td>1.0</td>\n    </tr>\n    <tr>\n      <th>3</th>\n      <td>1</td>\n      <td>0</td>\n      <td>3</td>\n      <td>0.158810</td>\n      <td>0.059129</td>\n      <td>3.567908</td>\n      <td>40922732.0</td>\n      <td>1.4</td>\n      <td>0.596779</td>\n      <td>0.116061</td>\n      <td>...</td>\n      <td>1.0</td>\n      <td>1.0</td>\n      <td>0.0</td>\n      <td>0.0</td>\n      <td>0.0</td>\n      <td>0.0</td>\n      <td>0.0</td>\n      <td>0.0</td>\n      <td>0.0</td>\n      <td>1.0</td>\n    </tr>\n    <tr>\n      <th>4</th>\n      <td>1</td>\n      <td>0</td>\n      <td>4</td>\n      <td>0.168547</td>\n      <td>0.049648</td>\n      <td>2.329854</td>\n      <td>51921612.0</td>\n      <td>1.6</td>\n      <td>0.556160</td>\n      <td>0.143420</td>\n      <td>...</td>\n      <td>1.0</td>\n      <td>1.0</td>\n      <td>0.0</td>\n      <td>0.0</td>\n      <td>0.0</td>\n      <td>0.0</td>\n      <td>0.0</td>\n      <td>0.0</td>\n      <td>0.0</td>\n      <td>1.0</td>\n    </tr>\n  </tbody>\n</table>\n<p>5 rows × 201 columns</p>\n</div>"
     },
     "execution_count": 3,
     "metadata": {},
     "output_type": "execute_result"
    }
   ],
   "source": [
    "train_df.head()"
   ],
   "metadata": {
    "collapsed": false,
    "pycharm": {
     "name": "#%%\n"
    }
   }
  },
  {
   "cell_type": "code",
   "execution_count": 4,
   "outputs": [
    {
     "data": {
      "text/plain": "<seaborn.axisgrid.FacetGrid at 0x7ff68e52aa60>"
     },
     "execution_count": 4,
     "metadata": {},
     "output_type": "execute_result"
    },
    {
     "data": {
      "text/plain": "<Figure size 360x360 with 1 Axes>",
      "image/png": "[encoded data removed]"
     },
     "metadata": {},
     "output_type": "display_data"
    }
   ],
   "source": [
    "sns.displot(train_df.quadrant.astype(str), shrink=.8)"
   ],
   "metadata": {
    "collapsed": false,
    "pycharm": {
     "name": "#%%\n"
    }
   }
  },
  {
   "cell_type": "code",
   "execution_count": null,
   "outputs": [],
   "source": [],
   "metadata": {
    "collapsed": false,
    "pycharm": {
     "name": "#%%\n"
    }
   }
  }
 ],
 "metadata": {
  "kernelspec": {
   "display_name": "Python 3 (ipykernel)",
   "language": "python",
   "name": "python3"
  },
  "language_info": {
   "codemirror_mode": {
    "name": "ipython",
    "version": 3
   },
   "file_extension": ".py",
   "mimetype": "text/x-python",
   "name": "python",
   "nbconvert_exporter": "python",
   "pygments_lexer": "ipython3",
   "version": "3.9.12"
  }
 },
 "nbformat": 4,
 "nbformat_minor": 1
}